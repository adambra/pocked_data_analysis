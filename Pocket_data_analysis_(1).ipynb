{
  "nbformat": 4,
  "nbformat_minor": 0,
  "metadata": {
    "colab": {
      "name": "Pocket data analysis (1).ipynb",
      "version": "0.3.2",
      "provenance": [],
      "collapsed_sections": [],
      "include_colab_link": true
    },
    "kernelspec": {
      "display_name": "Python 3",
      "language": "python",
      "name": "python3"
    }
  },
  "cells": [
    {
      "cell_type": "markdown",
      "metadata": {
        "id": "view-in-github",
        "colab_type": "text"
      },
      "source": [
        "<a href=\"https://colab.research.google.com/github/adambra/pocket_data_analysis/blob/master/Pocket_data_analysis_(1).ipynb\" target=\"_parent\"><img src=\"https://colab.research.google.com/assets/colab-badge.svg\" alt=\"Open In Colab\"/></a>"
      ]
    },
    {
      "metadata": {
        "id": "T7MYrEhfIGJl",
        "colab_type": "code",
        "colab": {}
      },
      "cell_type": "code",
      "source": [
        "\n",
        "import subprocess\n",
        "import json\n",
        "import pandas as pd\n",
        "import requests\n",
        "from urllib.parse import urlencode\n",
        "from urllib.request import Request, urlopen\n",
        "\n"
      ],
      "execution_count": 0,
      "outputs": []
    },
    {
      "metadata": {
        "id": "W8KVqKfRIGJu",
        "colab_type": "code",
        "colab": {}
      },
      "cell_type": "code",
      "source": [
        "# POST request an access code\n",
        "\n",
        "url = 'https://getpocket.com/v3/oauth/request' # Set destination URL here\n",
        "post_fields = {\"consumer_key\":\"<your_key>\",\"redirect_uri\":\"http://www.google.com\"}   # Set POST fields here\n",
        "\n",
        "request = Request(url, urlencode(post_fields).encode())\n",
        "json = urlopen(request).read().decode()\n",
        "print(json)\n",
        "\n",
        "\n"
      ],
      "execution_count": 0,
      "outputs": []
    },
    {
      "metadata": {
        "scrolled": true,
        "id": "wRS3_cwZIGJ7",
        "colab_type": "code",
        "colab": {}
      },
      "cell_type": "code",
      "source": [
        "# POST request an access code\n",
        "\n",
        "url = 'https://getpocket.com/v3/oauth/authorize' # Set destination URL here\n",
        "post_fields = {\"consumer_key\":\"<your_key>\",\"code\":\"<your_code>\"}  # Set POST fields here\n",
        "\n",
        "request = Request(url, urlencode(post_fields).encode())\n",
        "json = urlopen(request).read().decode()\n",
        "print(json)"
      ],
      "execution_count": 0,
      "outputs": []
    },
    {
      "metadata": {
        "id": "J5FzJ1JQIGKF",
        "colab_type": "code",
        "colab": {}
      },
      "cell_type": "code",
      "source": [
        "# GET request for data in JSON format\n",
        "parameters = {\"consumer_key\":\"75486-3123ffc22f6eb7e0ffab1204\",\"access_token\":\"28a47ed4-5799-b569-35f6-03841a\",\"count\":\"10\",\n",
        "              \"detailType\":\"complete\"}\n",
        "response = requests.get(\"https://getpocket.com/v3/get\",  params=parameters)\n"
      ],
      "execution_count": 0,
      "outputs": []
    },
    {
      "metadata": {
        "id": "IuIvbeFxIGKM",
        "colab_type": "code",
        "colab": {}
      },
      "cell_type": "code",
      "source": [
        "print(response)\n",
        "response.encoding\n",
        "data=response.json()\n",
        "data\n",
        "\n",
        "\n"
      ],
      "execution_count": 0,
      "outputs": []
    },
    {
      "metadata": {
        "id": "TsKGx_gpIGKV",
        "colab_type": "code",
        "colab": {}
      },
      "cell_type": "code",
      "source": [
        "print([data.values() for data in authors if data.__class__ is list])\n"
      ],
      "execution_count": 0,
      "outputs": []
    },
    {
      "metadata": {
        "id": "I5bpUjXuIGKf",
        "colab_type": "code",
        "colab": {}
      },
      "cell_type": "code",
      "source": [
        "data = response.json()\n",
        "response.json()\n",
        "with open('data.json', 'w') as outfile:\n",
        "    json.dump(data, outfile)"
      ],
      "execution_count": 0,
      "outputs": []
    },
    {
      "metadata": {
        "id": "wC-K8y-sIGKl",
        "colab_type": "code",
        "colab": {}
      },
      "cell_type": "code",
      "source": [
        "df = pd.DataFrame(response.json()['list'])\n",
        "df.head(5)\n"
      ],
      "execution_count": 0,
      "outputs": []
    },
    {
      "metadata": {
        "id": "D-y-d-k4IGKu",
        "colab_type": "code",
        "colab": {}
      },
      "cell_type": "code",
      "source": [
        "df_tranpose=df.transpose()\n",
        "df_tranpose.head(10)\n"
      ],
      "execution_count": 0,
      "outputs": []
    },
    {
      "metadata": {
        "id": "yhHXqLMJIGK4",
        "colab_type": "code",
        "colab": {}
      },
      "cell_type": "code",
      "source": [
        "#import ast\n",
        "#dict_df = pd.DataFrame([ast.literal_eval(i) for i in df_tranpose.authors.values])\n",
        "\n",
        "#df_tranpose[\"authors\"] = df_tranpose[\"authors\"].apply(lambda x : dict(eval(x)) )\n",
        "df1=df_tranpose.authors\n",
        "#df1=df1['authors'].apply(pd.Series)\n",
        "df_tranpose['id'] = range(1, len(df_tranpose) + 1)\n",
        "df_tranpose.head(10)\n",
        "df_authors = df_tranpose[['id', 'authors' ]].copy()\n",
        "df_authors.head(10)\n",
        "authors=df_authors.set_index('id').T.to_dict('dict')\n",
        "authors\n"
      ],
      "execution_count": 0,
      "outputs": []
    },
    {
      "metadata": {
        "id": "vJa7Jh-pIGLE",
        "colab_type": "code",
        "colab": {}
      },
      "cell_type": "code",
      "source": [
        "df = pd.DataFrame(list(authors.items()), columns=['Date', 'DateValue'])\n",
        "df"
      ],
      "execution_count": 0,
      "outputs": []
    },
    {
      "metadata": {
        "id": "kVhbRWiCIGLN",
        "colab_type": "code",
        "colab": {}
      },
      "cell_type": "code",
      "source": [
        "result = response.json()['list']\n",
        "result\n",
        "with open('result.json', 'w') as outfile:\n",
        "    json.dump(result, outfile)\n"
      ],
      "execution_count": 0,
      "outputs": []
    },
    {
      "metadata": {
        "id": "MXjflby5IGLS",
        "colab_type": "code",
        "colab": {}
      },
      "cell_type": "code",
      "source": [
        "result"
      ],
      "execution_count": 0,
      "outputs": []
    },
    {
      "metadata": {
        "id": "YtZRQ26VIGLe",
        "colab_type": "code",
        "colab": {}
      },
      "cell_type": "code",
      "source": [
        "df_tranpose.to_csv('pocket_data.csv')"
      ],
      "execution_count": 0,
      "outputs": []
    }
  ]
}